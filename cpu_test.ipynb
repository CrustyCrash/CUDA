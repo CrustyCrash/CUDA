{
  "nbformat": 4,
  "nbformat_minor": 0,
  "metadata": {
    "colab": {
      "provenance": [],
      "authorship_tag": "ABX9TyPGIbMLokXMyMmI5/bs6u3/"
    },
    "kernelspec": {
      "name": "python3",
      "display_name": "Python 3"
    },
    "language_info": {
      "name": "python"
    }
  },
  "cells": [
    {
      "cell_type": "code",
      "execution_count": 1,
      "metadata": {
        "colab": {
          "base_uri": "https://localhost:8080/"
        },
        "id": "sGU9FS6SqzSv",
        "outputId": "65bf0538-21e0-4741-9a3d-c0f0370df9f9"
      },
      "outputs": [
        {
          "output_type": "stream",
          "name": "stdout",
          "text": [
            "Writing cpu.cpp\n"
          ]
        }
      ],
      "source": [
        "%%writefile cpu.cpp\n",
        "#include <iostream>\n",
        "#include <chrono>\n",
        "#include <stdlib.h>\n",
        "\n",
        "#define N 90000\n",
        "\n",
        "int main()\n",
        "{\n",
        "    int* a = (int*)malloc(N * sizeof(int));\n",
        "    int* b = (int*)malloc(N * sizeof(int));\n",
        "    int* c = (int*)malloc(N * sizeof(int));\n",
        "\n",
        "\n",
        "    for(int i = 0; i < N; i++)\n",
        "    {\n",
        "        a[i] = i;\n",
        "        b[i] = i;\n",
        "    }\n",
        "\n",
        "// record start time\n",
        "    auto start_time = std::chrono::high_resolution_clock::now();\n",
        "    for(int i = 0; i < N; i++)\n",
        "    {\n",
        "        c[i] = a[i] + b[i];\n",
        "    }\n",
        "// record end time\n",
        "    auto end_time = std::chrono::high_resolution_clock::now();\n",
        "\n",
        "    //calulate duration\n",
        "    auto duration_ns = std::chrono::duration_cast<std::chrono::nanoseconds>(end_time - start_time).count();\n",
        "    double ms = duration_ns / 1000000.0; //convert ns to ms\n",
        "    std::cout<< \"time taken by CPU: \" << ms << \"ms\" <<std::endl;\n",
        "\n",
        "\n",
        "    free(a);\n",
        "    free(b);\n",
        "    free(c);\n",
        "\n",
        "    return 0;\n",
        "}"
      ]
    },
    {
      "cell_type": "code",
      "source": [
        "!g++ -o cpu cpu.cpp"
      ],
      "metadata": {
        "id": "5vtTAR8Pq9fW"
      },
      "execution_count": 4,
      "outputs": []
    },
    {
      "cell_type": "code",
      "source": [
        "!./cpu"
      ],
      "metadata": {
        "colab": {
          "base_uri": "https://localhost:8080/"
        },
        "id": "7nESt7aNrHJk",
        "outputId": "3baed83f-96e2-464e-9718-4f337509d9bd"
      },
      "execution_count": 5,
      "outputs": [
        {
          "output_type": "stream",
          "name": "stdout",
          "text": [
            "time taken by CPU: 2.75004ms\n"
          ]
        }
      ]
    }
  ]
}