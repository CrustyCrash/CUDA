{
  "nbformat": 4,
  "nbformat_minor": 0,
  "metadata": {
    "colab": {
      "provenance": [],
      "gpuType": "T4",
      "authorship_tag": "ABX9TyMoJw0kA5DWpm5fhUrvnT4+"
    },
    "kernelspec": {
      "name": "python3",
      "display_name": "Python 3"
    },
    "language_info": {
      "name": "python"
    },
    "accelerator": "GPU"
  },
  "cells": [
    {
      "cell_type": "code",
      "execution_count": 9,
      "metadata": {
        "colab": {
          "base_uri": "https://localhost:8080/"
        },
        "id": "96HCAohd9XiT",
        "outputId": "cb3a594a-c744-4bb1-d310-167d0542ae41"
      },
      "outputs": [
        {
          "output_type": "stream",
          "name": "stdout",
          "text": [
            "Overwriting trap_cuda.cu\n"
          ]
        }
      ],
      "source": [
        "%%writefile trap_cuda.cu\n",
        "#include <stdio.h>\n",
        "#include <cuda_runtime.h>\n",
        "\n",
        "__host__ __device__ float f(float x)\n",
        "{\n",
        "    return 1.0 / (1.0 + x * x);\n",
        "}\n",
        "\n",
        "__global__ void trap(float a, float h, int n, float* dev_sum)\n",
        "{\n",
        "    int tid = threadIdx.x + blockIdx.x * blockDim.x;\n",
        "    if (tid > 0 && tid < n) {\n",
        "        float x = a + tid * h;\n",
        "        float y = f(x);\n",
        "        atomicAdd(dev_sum, y);\n",
        "    }\n",
        "}\n",
        "\n",
        "float host_trap(float a, float b, int N)\n",
        "{\n",
        "    float h = (b - a) / N;\n",
        "    int block_size = 512;\n",
        "    int num_blocks = (N + block_size - 1) / block_size;\n",
        "    float* dev_sum;\n",
        "\n",
        "    cudaMalloc((void**)&dev_sum, sizeof(float));\n",
        "    cudaMemset(dev_sum, 0, sizeof(float));\n",
        "\n",
        "    trap<<<num_blocks, block_size>>>(a, h, N, dev_sum);\n",
        "\n",
        "    float sum;\n",
        "    cudaMemcpy(&sum, dev_sum, sizeof(float), cudaMemcpyDeviceToHost);\n",
        "\n",
        "    cudaFree(dev_sum);\n",
        "\n",
        "    sum += (f(a) + f(b)) / 2.0;\n",
        "    return h * sum;\n",
        "}\n",
        "\n",
        "int main()\n",
        "{\n",
        "    float a = 0.0;\n",
        "    float b = 1.0;\n",
        "    int n = 100000;\n",
        "\n",
        "    float result = host_trap(a, b, n);\n",
        "    printf(\"%.8f\\n\", result);\n",
        "\n",
        "    return 0;\n",
        "}\n"
      ]
    },
    {
      "cell_type": "code",
      "source": [
        "!nvcc -o trap trap_cuda.cu"
      ],
      "metadata": {
        "id": "kjvIKS0c9r9w"
      },
      "execution_count": 10,
      "outputs": []
    },
    {
      "cell_type": "code",
      "source": [
        "!./trap"
      ],
      "metadata": {
        "colab": {
          "base_uri": "https://localhost:8080/"
        },
        "id": "h6fAGnLe_Fpr",
        "outputId": "534c3f3d-130d-4a34-edfd-06fb572d22fd"
      },
      "execution_count": 12,
      "outputs": [
        {
          "output_type": "stream",
          "name": "stdout",
          "text": [
            "0.78538483\n"
          ]
        }
      ]
    }
  ]
}