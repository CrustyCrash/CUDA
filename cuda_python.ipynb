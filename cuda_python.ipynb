{
  "nbformat": 4,
  "nbformat_minor": 0,
  "metadata": {
    "colab": {
      "provenance": [],
      "gpuType": "T4",
      "authorship_tag": "ABX9TyMIpOfbs1LMqsszzp117C6I"
    },
    "kernelspec": {
      "name": "python3",
      "display_name": "Python 3"
    },
    "language_info": {
      "name": "python"
    },
    "accelerator": "GPU"
  },
  "cells": [
    {
      "cell_type": "code",
      "execution_count": 10,
      "metadata": {
        "colab": {
          "base_uri": "https://localhost:8080/"
        },
        "id": "yok_kejE9tL4",
        "outputId": "32102c9c-a1aa-4d43-b2a6-955ced950110"
      },
      "outputs": [
        {
          "output_type": "stream",
          "name": "stdout",
          "text": [
            "Overwriting hello.py\n"
          ]
        }
      ],
      "source": [
        "%%writefile hello.py\n",
        "import numpy as np\n",
        "import numba\n",
        "from numba import cuda\n",
        "\n",
        "@cuda.jit\n",
        "def hello():\n",
        "  tx = cuda.threadIdx.x\n",
        "  bx = cuda.blockIdx.x\n",
        "  bw = cuda.blockDim.x\n",
        "\n",
        "  idx = tx + bx * bw\n",
        "  print(\"Hello from TID: \", idx)\n",
        "\n",
        "threads_per_block = 132\n",
        "blocks_per_grid = 256\n",
        "\n",
        "hello[blocks_per_grid, threads_per_block]()\n",
        "cuda.synchronize()"
      ]
    },
    {
      "cell_type": "code",
      "source": [
        "!python hello.py | wc -l"
      ],
      "metadata": {
        "colab": {
          "base_uri": "https://localhost:8080/"
        },
        "id": "0HJg_zWA9-zm",
        "outputId": "3821e98f-e151-4ade-a069-1cb1ae68ee8c"
      },
      "execution_count": 12,
      "outputs": [
        {
          "output_type": "stream",
          "name": "stdout",
          "text": [
            "12524\n"
          ]
        }
      ]
    },
    {
      "cell_type": "code",
      "source": [],
      "metadata": {
        "id": "z4p_PB3RAAcX"
      },
      "execution_count": 8,
      "outputs": []
    },
    {
      "cell_type": "code",
      "source": [],
      "metadata": {
        "colab": {
          "base_uri": "https://localhost:8080/"
        },
        "id": "VhMQcyugBOuf",
        "outputId": "1ce52ea3-48e5-4eb9-8ce9-71893d34f3aa"
      },
      "execution_count": 9,
      "outputs": [
        {
          "output_type": "stream",
          "name": "stdout",
          "text": [
            "import numpy as np\n",
            "import numba\n",
            "from numba import cuda\n"
          ]
        }
      ]
    }
  ]
}